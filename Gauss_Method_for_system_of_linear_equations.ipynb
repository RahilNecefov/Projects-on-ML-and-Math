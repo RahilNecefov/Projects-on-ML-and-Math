{
 "cells": [
  {
   "cell_type": "code",
   "execution_count": 311,
   "id": "fbaf973b",
   "metadata": {},
   "outputs": [],
   "source": [
    "import numpy as np"
   ]
  },
  {
   "cell_type": "code",
   "execution_count": 312,
   "id": "78d1f1f8",
   "metadata": {},
   "outputs": [],
   "source": [
    "A = np.array([\n",
    "    [2,8,2,14],\n",
    "    [1,6,-1,13],\n",
    "    [2,-1,2,5]\n",
    "])\n",
    "A_copy = np.array([\n",
    "    [2,8,2,14],\n",
    "    [1,6,-1,13],\n",
    "    [2,-1,2,5]\n",
    "])"
   ]
  },
  {
   "cell_type": "code",
   "execution_count": 313,
   "id": "04401240",
   "metadata": {},
   "outputs": [],
   "source": [
    "def upper_triangular_1(B):\n",
    "    A = B.copy()\n",
    "    rows = len(A)\n",
    "    columns = len(A[0])\n",
    "    if ( rows != (columns-1)):\n",
    "        print('not square matrix')\n",
    "        return None\n",
    "    for j in range(columns-1):\n",
    "        for i in range(j+1,rows):\n",
    "            factor = A[i,j] / A[j,j]\n",
    "            for k in range(j,columns):\n",
    "                A[i,k] = A[i,k] - factor * A[j,k] \n",
    "    return A\n",
    "              \n",
    "\n",
    "def upper_triangular_2(A):\n",
    "    B = A.copy()\n",
    "    rows = len(B)\n",
    "    columns = len(B[0])\n",
    "    if ( rows != (columns-1)):\n",
    "        print('not square matrix')\n",
    "        return None\n",
    "    for j in range(columns-1):\n",
    "        for i in range (j+1,rows):\n",
    "            B[i] = B[i] - (B[i,j]/B[j,j]) * B[j]\n",
    "    return B\n"
   ]
  },
  {
   "cell_type": "code",
   "execution_count": 314,
   "id": "417d6f45",
   "metadata": {},
   "outputs": [],
   "source": [
    "def gauss_solver1(B):\n",
    "    A = upper_triangular_1(B)\n",
    "    a = A[:,:-1]\n",
    "    b = A[:,-1]\n",
    "    \n",
    "    roots = np.zeros(len(b))\n",
    "    \n",
    "    for i in range(rows-1,-1,-1): \n",
    "        if(i == (rows -1)):\n",
    "            roots[i] = (b[i]) / a[i,i]\n",
    "        else:\n",
    "            summ = int(sum(roots * a[i]))\n",
    "            roots[i] = (b[i] - summ) / a[i,i]\n",
    "            summ=0\n",
    "    print('Matrix:')\n",
    "    print(A)\n",
    "    print('\\nRoots:')\n",
    "    print(roots)"
   ]
  },
  {
   "cell_type": "code",
   "execution_count": 315,
   "id": "4e23dd24",
   "metadata": {},
   "outputs": [],
   "source": [
    "def gauss_solver2(B):\n",
    "    A = upper_triangular_2(B)\n",
    "    a = A[:,:-1]\n",
    "    b = A[:,-1]\n",
    "    \n",
    "    roots = np.zeros(len(b))\n",
    "    \n",
    "    for i in range(rows-1,-1,-1): \n",
    "        if(i == (rows -1)):\n",
    "            roots[i] = (b[i]) / a[i,i]\n",
    "        else:\n",
    "            summ = int(sum(roots * a[i]))\n",
    "            roots[i] = (b[i] - summ) / a[i,i]\n",
    "            summ=0\n",
    "    print('Matrix:')\n",
    "    print(A)\n",
    "    print('\\nRoots:')\n",
    "    print(roots)"
   ]
  },
  {
   "cell_type": "code",
   "execution_count": 316,
   "id": "ec690eb2",
   "metadata": {},
   "outputs": [
    {
     "name": "stdout",
     "output_type": "stream",
     "text": [
      "Matrix:\n",
      "[[ 2  8  2 14]\n",
      " [ 0  2 -2  6]\n",
      " [ 0  0 -9 18]]\n",
      "\n",
      "Roots:\n",
      "[ 5.  1. -2.]\n"
     ]
    }
   ],
   "source": [
    "gauss_solver1(A)"
   ]
  },
  {
   "cell_type": "code",
   "execution_count": 317,
   "id": "b1f6dd43",
   "metadata": {},
   "outputs": [
    {
     "name": "stdout",
     "output_type": "stream",
     "text": [
      "Matrix:\n",
      "[[ 2  8  2 14]\n",
      " [ 0  2 -2  6]\n",
      " [ 0  0 -9 18]]\n",
      "\n",
      "Roots:\n",
      "[ 5.  1. -2.]\n"
     ]
    }
   ],
   "source": [
    "gauss_solver2(A)"
   ]
  },
  {
   "cell_type": "code",
   "execution_count": 318,
   "id": "88d1dbb0",
   "metadata": {},
   "outputs": [
    {
     "data": {
      "text/plain": [
       "array([[ 2,  8,  2, 14],\n",
       "       [ 1,  6, -1, 13],\n",
       "       [ 2, -1,  2,  5]])"
      ]
     },
     "execution_count": 318,
     "metadata": {},
     "output_type": "execute_result"
    }
   ],
   "source": [
    "A"
   ]
  }
 ],
 "metadata": {
  "kernelspec": {
   "display_name": "Python 3.12",
   "language": "python",
   "name": "python312"
  },
  "language_info": {
   "codemirror_mode": {
    "name": "ipython",
    "version": 3
   },
   "file_extension": ".py",
   "mimetype": "text/x-python",
   "name": "python",
   "nbconvert_exporter": "python",
   "pygments_lexer": "ipython3",
   "version": "3.12.5"
  }
 },
 "nbformat": 4,
 "nbformat_minor": 5
}
