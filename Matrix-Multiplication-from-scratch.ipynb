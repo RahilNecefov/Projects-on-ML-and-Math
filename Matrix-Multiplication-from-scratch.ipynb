{
 "cells": [
  {
   "cell_type": "code",
   "execution_count": 87,
   "id": "a35ca056",
   "metadata": {},
   "outputs": [],
   "source": [
    "import numpy as np"
   ]
  },
  {
   "cell_type": "code",
   "execution_count": 88,
   "id": "61850e65",
   "metadata": {},
   "outputs": [],
   "source": [
    "A = np.array([\n",
    "    [1,2,3],\n",
    "    [4,5,6],\n",
    "    [7,8,9]\n",
    "])"
   ]
  },
  {
   "cell_type": "code",
   "execution_count": 89,
   "id": "9c018741",
   "metadata": {},
   "outputs": [],
   "source": [
    "B = np.array( [\n",
    "    [9,8,7],\n",
    "    [6,5,4],\n",
    "    [3,2,1]\n",
    "])"
   ]
  },
  {
   "cell_type": "code",
   "execution_count": 90,
   "id": "34ce584c",
   "metadata": {},
   "outputs": [
    {
     "data": {
      "text/plain": [
       "array([[ 30,  24,  18],\n",
       "       [ 84,  69,  54],\n",
       "       [138, 114,  90]])"
      ]
     },
     "execution_count": 90,
     "metadata": {},
     "output_type": "execute_result"
    }
   ],
   "source": [
    "A@B"
   ]
  },
  {
   "cell_type": "markdown",
   "id": "6c85d2d4",
   "metadata": {},
   "source": [
    "# Matrix multiplication from scratch"
   ]
  },
  {
   "cell_type": "code",
   "execution_count": 92,
   "id": "a5679c3d",
   "metadata": {},
   "outputs": [],
   "source": [
    "def multiply_matrices(A,B):\n",
    "    if(A.shape[1] == B.shape[0]):\n",
    "        final_matrix = np.zeros((A.shape[0],B.shape[1]),dtype=int)\n",
    "        summ = 0\n",
    "        for row in range(A.shape[0]):\n",
    "            for columns in range(B.shape[1]):\n",
    "                for i in range(len(A[row])):\n",
    "                    summ +=  A[row][i] * B[:,columns][i]\n",
    "                final_matrix[row,columns] = summ\n",
    "                summ=0                \n",
    "    else:\n",
    "        print('matrix multiplication is not defined as dimensions not correct')\n",
    "        return None\n",
    "\n",
    "    return final_matrix"
   ]
  },
  {
   "cell_type": "code",
   "execution_count": 93,
   "id": "80ea95fb",
   "metadata": {},
   "outputs": [
    {
     "data": {
      "text/plain": [
       "array([[ 30,  24,  18],\n",
       "       [ 84,  69,  54],\n",
       "       [138, 114,  90]])"
      ]
     },
     "execution_count": 93,
     "metadata": {},
     "output_type": "execute_result"
    }
   ],
   "source": [
    "multiply_matrices(A,B)"
   ]
  },
  {
   "cell_type": "code",
   "execution_count": 94,
   "id": "b3ea42be",
   "metadata": {},
   "outputs": [],
   "source": [
    "Q = np.array([[1, 2, 3], [4, 5, 6]])  \n",
    "K = np.array([[7, 8], [9, 10]])"
   ]
  },
  {
   "cell_type": "code",
   "execution_count": 95,
   "id": "46476e6a",
   "metadata": {},
   "outputs": [
    {
     "name": "stdout",
     "output_type": "stream",
     "text": [
      "matrix multiplication is not defined as dimensions not correct\n"
     ]
    }
   ],
   "source": [
    "multiply_matrices(Q,K)"
   ]
  }
 ],
 "metadata": {
  "kernelspec": {
   "display_name": "Python 3.12",
   "language": "python",
   "name": "python312"
  },
  "language_info": {
   "codemirror_mode": {
    "name": "ipython",
    "version": 3
   },
   "file_extension": ".py",
   "mimetype": "text/x-python",
   "name": "python",
   "nbconvert_exporter": "python",
   "pygments_lexer": "ipython3",
   "version": "3.12.5"
  }
 },
 "nbformat": 4,
 "nbformat_minor": 5
}
